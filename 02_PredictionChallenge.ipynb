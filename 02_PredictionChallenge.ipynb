{
 "cells": [
  {
   "cell_type": "code",
   "execution_count": 1,
   "metadata": {},
   "outputs": [],
   "source": [
    "import pandas as pd\n",
    "import numpy as np\n",
    "import warnings\n",
    "warnings.filterwarnings('ignore')\n",
    "%matplotlib inline"
   ]
  },
  {
   "cell_type": "code",
   "execution_count": 2,
   "metadata": {},
   "outputs": [],
   "source": [
    "listings = pd.read_csv('data/listings_CPH.csv')"
   ]
  },
  {
   "cell_type": "markdown",
   "metadata": {},
   "source": [
    "## Prediction Challenge\n",
    "\n",
    "### Binary Classification\n",
    "We start off by having a brief look at the data."
   ]
  },
  {
   "cell_type": "code",
   "execution_count": 3,
   "metadata": {},
   "outputs": [
    {
     "data": {
      "text/html": [
       "<div>\n",
       "<style scoped>\n",
       "    .dataframe tbody tr th:only-of-type {\n",
       "        vertical-align: middle;\n",
       "    }\n",
       "\n",
       "    .dataframe tbody tr th {\n",
       "        vertical-align: top;\n",
       "    }\n",
       "\n",
       "    .dataframe thead th {\n",
       "        text-align: right;\n",
       "    }\n",
       "</style>\n",
       "<table border=\"1\" class=\"dataframe\">\n",
       "  <thead>\n",
       "    <tr style=\"text-align: right;\">\n",
       "      <th></th>\n",
       "      <th>id</th>\n",
       "      <th>name</th>\n",
       "      <th>host_id</th>\n",
       "      <th>host_name</th>\n",
       "      <th>neighbourhood_group</th>\n",
       "      <th>neighbourhood</th>\n",
       "      <th>latitude</th>\n",
       "      <th>longitude</th>\n",
       "      <th>room_type</th>\n",
       "      <th>price</th>\n",
       "      <th>minimum_nights</th>\n",
       "      <th>number_of_reviews</th>\n",
       "      <th>last_review</th>\n",
       "      <th>reviews_per_month</th>\n",
       "      <th>calculated_host_listings_count</th>\n",
       "      <th>availability_365</th>\n",
       "      <th>number_of_reviews_ltm</th>\n",
       "      <th>license</th>\n",
       "    </tr>\n",
       "  </thead>\n",
       "  <tbody>\n",
       "    <tr>\n",
       "      <th>0</th>\n",
       "      <td>6983</td>\n",
       "      <td>Copenhagen 'N Livin'</td>\n",
       "      <td>16774</td>\n",
       "      <td>Simon</td>\n",
       "      <td>NaN</td>\n",
       "      <td>Nrrebro</td>\n",
       "      <td>55.686410</td>\n",
       "      <td>12.547410</td>\n",
       "      <td>Entire home/apt</td>\n",
       "      <td>898</td>\n",
       "      <td>3</td>\n",
       "      <td>172</td>\n",
       "      <td>2022-06-21</td>\n",
       "      <td>1.08</td>\n",
       "      <td>1</td>\n",
       "      <td>0</td>\n",
       "      <td>4</td>\n",
       "      <td>NaN</td>\n",
       "    </tr>\n",
       "    <tr>\n",
       "      <th>1</th>\n",
       "      <td>26057</td>\n",
       "      <td>Lovely house - most attractive area</td>\n",
       "      <td>109777</td>\n",
       "      <td>Kari</td>\n",
       "      <td>NaN</td>\n",
       "      <td>Indre By</td>\n",
       "      <td>55.693070</td>\n",
       "      <td>12.576490</td>\n",
       "      <td>Entire home/apt</td>\n",
       "      <td>2600</td>\n",
       "      <td>4</td>\n",
       "      <td>59</td>\n",
       "      <td>2022-08-09</td>\n",
       "      <td>0.55</td>\n",
       "      <td>1</td>\n",
       "      <td>303</td>\n",
       "      <td>8</td>\n",
       "      <td>NaN</td>\n",
       "    </tr>\n",
       "    <tr>\n",
       "      <th>2</th>\n",
       "      <td>26473</td>\n",
       "      <td>City Centre Townhouse Sleeps 1-10 persons</td>\n",
       "      <td>112210</td>\n",
       "      <td>Julia</td>\n",
       "      <td>NaN</td>\n",
       "      <td>Indre By</td>\n",
       "      <td>55.676020</td>\n",
       "      <td>12.575400</td>\n",
       "      <td>Entire home/apt</td>\n",
       "      <td>3250</td>\n",
       "      <td>3</td>\n",
       "      <td>300</td>\n",
       "      <td>2022-09-10</td>\n",
       "      <td>2.06</td>\n",
       "      <td>3</td>\n",
       "      <td>56</td>\n",
       "      <td>7</td>\n",
       "      <td>NaN</td>\n",
       "    </tr>\n",
       "    <tr>\n",
       "      <th>3</th>\n",
       "      <td>29118</td>\n",
       "      <td>Best Location in Cool Istedgade</td>\n",
       "      <td>125230</td>\n",
       "      <td>Nana</td>\n",
       "      <td>NaN</td>\n",
       "      <td>Vesterbro-Kongens Enghave</td>\n",
       "      <td>55.670230</td>\n",
       "      <td>12.555040</td>\n",
       "      <td>Entire home/apt</td>\n",
       "      <td>725</td>\n",
       "      <td>7</td>\n",
       "      <td>24</td>\n",
       "      <td>2022-08-04</td>\n",
       "      <td>0.16</td>\n",
       "      <td>1</td>\n",
       "      <td>59</td>\n",
       "      <td>2</td>\n",
       "      <td>NaN</td>\n",
       "    </tr>\n",
       "    <tr>\n",
       "      <th>4</th>\n",
       "      <td>31094</td>\n",
       "      <td>Beautiful, spacious, central, renovated Penthouse</td>\n",
       "      <td>129976</td>\n",
       "      <td>Ebbe</td>\n",
       "      <td>NaN</td>\n",
       "      <td>Vesterbro-Kongens Enghave</td>\n",
       "      <td>55.666602</td>\n",
       "      <td>12.555283</td>\n",
       "      <td>Entire home/apt</td>\n",
       "      <td>1954</td>\n",
       "      <td>3</td>\n",
       "      <td>19</td>\n",
       "      <td>2022-08-22</td>\n",
       "      <td>0.13</td>\n",
       "      <td>1</td>\n",
       "      <td>0</td>\n",
       "      <td>2</td>\n",
       "      <td>NaN</td>\n",
       "    </tr>\n",
       "  </tbody>\n",
       "</table>\n",
       "</div>"
      ],
      "text/plain": [
       "      id                                               name  host_id  \\\n",
       "0   6983                               Copenhagen 'N Livin'    16774   \n",
       "1  26057                Lovely house - most attractive area   109777   \n",
       "2  26473          City Centre Townhouse Sleeps 1-10 persons   112210   \n",
       "3  29118                    Best Location in Cool Istedgade   125230   \n",
       "4  31094  Beautiful, spacious, central, renovated Penthouse   129976   \n",
       "\n",
       "  host_name  neighbourhood_group              neighbourhood   latitude  \\\n",
       "0     Simon                  NaN                    Nrrebro  55.686410   \n",
       "1      Kari                  NaN                   Indre By  55.693070   \n",
       "2     Julia                  NaN                   Indre By  55.676020   \n",
       "3      Nana                  NaN  Vesterbro-Kongens Enghave  55.670230   \n",
       "4      Ebbe                  NaN  Vesterbro-Kongens Enghave  55.666602   \n",
       "\n",
       "   longitude        room_type  price  minimum_nights  number_of_reviews  \\\n",
       "0  12.547410  Entire home/apt    898               3                172   \n",
       "1  12.576490  Entire home/apt   2600               4                 59   \n",
       "2  12.575400  Entire home/apt   3250               3                300   \n",
       "3  12.555040  Entire home/apt    725               7                 24   \n",
       "4  12.555283  Entire home/apt   1954               3                 19   \n",
       "\n",
       "  last_review  reviews_per_month  calculated_host_listings_count  \\\n",
       "0  2022-06-21               1.08                               1   \n",
       "1  2022-08-09               0.55                               1   \n",
       "2  2022-09-10               2.06                               3   \n",
       "3  2022-08-04               0.16                               1   \n",
       "4  2022-08-22               0.13                               1   \n",
       "\n",
       "   availability_365  number_of_reviews_ltm  license  \n",
       "0                 0                      4      NaN  \n",
       "1               303                      8      NaN  \n",
       "2                56                      7      NaN  \n",
       "3                59                      2      NaN  \n",
       "4                 0                      2      NaN  "
      ]
     },
     "execution_count": 3,
     "metadata": {},
     "output_type": "execute_result"
    }
   ],
   "source": [
    "listings.head()"
   ]
  },
  {
   "cell_type": "code",
   "execution_count": 4,
   "metadata": {},
   "outputs": [
    {
     "data": {
      "text/html": [
       "<div>\n",
       "<style scoped>\n",
       "    .dataframe tbody tr th:only-of-type {\n",
       "        vertical-align: middle;\n",
       "    }\n",
       "\n",
       "    .dataframe tbody tr th {\n",
       "        vertical-align: top;\n",
       "    }\n",
       "\n",
       "    .dataframe thead th {\n",
       "        text-align: right;\n",
       "    }\n",
       "</style>\n",
       "<table border=\"1\" class=\"dataframe\">\n",
       "  <thead>\n",
       "    <tr style=\"text-align: right;\">\n",
       "      <th></th>\n",
       "      <th>id</th>\n",
       "      <th>host_id</th>\n",
       "      <th>neighbourhood_group</th>\n",
       "      <th>latitude</th>\n",
       "      <th>longitude</th>\n",
       "      <th>price</th>\n",
       "      <th>minimum_nights</th>\n",
       "      <th>number_of_reviews</th>\n",
       "      <th>reviews_per_month</th>\n",
       "      <th>calculated_host_listings_count</th>\n",
       "      <th>availability_365</th>\n",
       "      <th>number_of_reviews_ltm</th>\n",
       "      <th>license</th>\n",
       "    </tr>\n",
       "  </thead>\n",
       "  <tbody>\n",
       "    <tr>\n",
       "      <th>count</th>\n",
       "      <td>1.381500e+04</td>\n",
       "      <td>1.381500e+04</td>\n",
       "      <td>0.0</td>\n",
       "      <td>13815.000000</td>\n",
       "      <td>13815.000000</td>\n",
       "      <td>13815.000000</td>\n",
       "      <td>13815.000000</td>\n",
       "      <td>13815.000000</td>\n",
       "      <td>12170.000000</td>\n",
       "      <td>13815.000000</td>\n",
       "      <td>13815.000000</td>\n",
       "      <td>13815.000000</td>\n",
       "      <td>0.0</td>\n",
       "    </tr>\n",
       "    <tr>\n",
       "      <th>mean</th>\n",
       "      <td>1.719385e+17</td>\n",
       "      <td>1.064145e+08</td>\n",
       "      <td>NaN</td>\n",
       "      <td>55.680569</td>\n",
       "      <td>12.557805</td>\n",
       "      <td>1205.878972</td>\n",
       "      <td>4.605574</td>\n",
       "      <td>18.571118</td>\n",
       "      <td>0.903816</td>\n",
       "      <td>4.400651</td>\n",
       "      <td>93.302642</td>\n",
       "      <td>5.451104</td>\n",
       "      <td>NaN</td>\n",
       "    </tr>\n",
       "    <tr>\n",
       "      <th>std</th>\n",
       "      <td>2.852538e+17</td>\n",
       "      <td>1.302801e+08</td>\n",
       "      <td>NaN</td>\n",
       "      <td>0.021088</td>\n",
       "      <td>0.033512</td>\n",
       "      <td>1433.143149</td>\n",
       "      <td>16.900153</td>\n",
       "      <td>36.402671</td>\n",
       "      <td>1.110754</td>\n",
       "      <td>21.298565</td>\n",
       "      <td>123.161958</td>\n",
       "      <td>11.373977</td>\n",
       "      <td>NaN</td>\n",
       "    </tr>\n",
       "    <tr>\n",
       "      <th>min</th>\n",
       "      <td>6.983000e+03</td>\n",
       "      <td>1.171800e+04</td>\n",
       "      <td>NaN</td>\n",
       "      <td>55.609510</td>\n",
       "      <td>12.435670</td>\n",
       "      <td>0.000000</td>\n",
       "      <td>1.000000</td>\n",
       "      <td>0.000000</td>\n",
       "      <td>0.010000</td>\n",
       "      <td>1.000000</td>\n",
       "      <td>0.000000</td>\n",
       "      <td>0.000000</td>\n",
       "      <td>NaN</td>\n",
       "    </tr>\n",
       "    <tr>\n",
       "      <th>25%</th>\n",
       "      <td>1.907962e+07</td>\n",
       "      <td>1.356383e+07</td>\n",
       "      <td>NaN</td>\n",
       "      <td>55.666110</td>\n",
       "      <td>12.540285</td>\n",
       "      <td>729.000000</td>\n",
       "      <td>2.000000</td>\n",
       "      <td>2.000000</td>\n",
       "      <td>0.230000</td>\n",
       "      <td>1.000000</td>\n",
       "      <td>0.000000</td>\n",
       "      <td>0.000000</td>\n",
       "      <td>NaN</td>\n",
       "    </tr>\n",
       "    <tr>\n",
       "      <th>50%</th>\n",
       "      <td>3.931542e+07</td>\n",
       "      <td>4.656301e+07</td>\n",
       "      <td>NaN</td>\n",
       "      <td>55.681190</td>\n",
       "      <td>12.555520</td>\n",
       "      <td>995.000000</td>\n",
       "      <td>3.000000</td>\n",
       "      <td>7.000000</td>\n",
       "      <td>0.530000</td>\n",
       "      <td>1.000000</td>\n",
       "      <td>20.000000</td>\n",
       "      <td>3.000000</td>\n",
       "      <td>NaN</td>\n",
       "    </tr>\n",
       "    <tr>\n",
       "      <th>75%</th>\n",
       "      <td>5.665348e+17</td>\n",
       "      <td>1.553486e+08</td>\n",
       "      <td>NaN</td>\n",
       "      <td>55.695770</td>\n",
       "      <td>12.580741</td>\n",
       "      <td>1368.500000</td>\n",
       "      <td>4.000000</td>\n",
       "      <td>20.000000</td>\n",
       "      <td>1.120000</td>\n",
       "      <td>1.000000</td>\n",
       "      <td>174.000000</td>\n",
       "      <td>6.000000</td>\n",
       "      <td>NaN</td>\n",
       "    </tr>\n",
       "    <tr>\n",
       "      <th>max</th>\n",
       "      <td>7.222925e+17</td>\n",
       "      <td>4.805803e+08</td>\n",
       "      <td>NaN</td>\n",
       "      <td>55.742800</td>\n",
       "      <td>12.651740</td>\n",
       "      <td>64900.000000</td>\n",
       "      <td>1111.000000</td>\n",
       "      <td>711.000000</td>\n",
       "      <td>24.020000</td>\n",
       "      <td>179.000000</td>\n",
       "      <td>365.000000</td>\n",
       "      <td>471.000000</td>\n",
       "      <td>NaN</td>\n",
       "    </tr>\n",
       "  </tbody>\n",
       "</table>\n",
       "</div>"
      ],
      "text/plain": [
       "                 id       host_id  neighbourhood_group      latitude  \\\n",
       "count  1.381500e+04  1.381500e+04                  0.0  13815.000000   \n",
       "mean   1.719385e+17  1.064145e+08                  NaN     55.680569   \n",
       "std    2.852538e+17  1.302801e+08                  NaN      0.021088   \n",
       "min    6.983000e+03  1.171800e+04                  NaN     55.609510   \n",
       "25%    1.907962e+07  1.356383e+07                  NaN     55.666110   \n",
       "50%    3.931542e+07  4.656301e+07                  NaN     55.681190   \n",
       "75%    5.665348e+17  1.553486e+08                  NaN     55.695770   \n",
       "max    7.222925e+17  4.805803e+08                  NaN     55.742800   \n",
       "\n",
       "          longitude         price  minimum_nights  number_of_reviews  \\\n",
       "count  13815.000000  13815.000000    13815.000000       13815.000000   \n",
       "mean      12.557805   1205.878972        4.605574          18.571118   \n",
       "std        0.033512   1433.143149       16.900153          36.402671   \n",
       "min       12.435670      0.000000        1.000000           0.000000   \n",
       "25%       12.540285    729.000000        2.000000           2.000000   \n",
       "50%       12.555520    995.000000        3.000000           7.000000   \n",
       "75%       12.580741   1368.500000        4.000000          20.000000   \n",
       "max       12.651740  64900.000000     1111.000000         711.000000   \n",
       "\n",
       "       reviews_per_month  calculated_host_listings_count  availability_365  \\\n",
       "count       12170.000000                    13815.000000      13815.000000   \n",
       "mean            0.903816                        4.400651         93.302642   \n",
       "std             1.110754                       21.298565        123.161958   \n",
       "min             0.010000                        1.000000          0.000000   \n",
       "25%             0.230000                        1.000000          0.000000   \n",
       "50%             0.530000                        1.000000         20.000000   \n",
       "75%             1.120000                        1.000000        174.000000   \n",
       "max            24.020000                      179.000000        365.000000   \n",
       "\n",
       "       number_of_reviews_ltm  license  \n",
       "count           13815.000000      0.0  \n",
       "mean                5.451104      NaN  \n",
       "std                11.373977      NaN  \n",
       "min                 0.000000      NaN  \n",
       "25%                 0.000000      NaN  \n",
       "50%                 3.000000      NaN  \n",
       "75%                 6.000000      NaN  \n",
       "max               471.000000      NaN  "
      ]
     },
     "execution_count": 4,
     "metadata": {},
     "output_type": "execute_result"
    }
   ],
   "source": [
    "listings.describe()"
   ]
  },
  {
   "cell_type": "code",
   "execution_count": 5,
   "metadata": {},
   "outputs": [
    {
     "data": {
      "text/plain": [
       "id                                0.000000\n",
       "name                              0.000000\n",
       "host_id                           0.000000\n",
       "host_name                         0.000072\n",
       "neighbourhood_group                    inf\n",
       "neighbourhood                     0.000000\n",
       "latitude                          0.000000\n",
       "longitude                         0.000000\n",
       "room_type                         0.000000\n",
       "price                             0.000000\n",
       "minimum_nights                    0.000000\n",
       "number_of_reviews                 0.000000\n",
       "last_review                       0.135168\n",
       "reviews_per_month                 0.135168\n",
       "calculated_host_listings_count    0.000000\n",
       "availability_365                  0.000000\n",
       "number_of_reviews_ltm             0.000000\n",
       "license                                inf\n",
       "dtype: float64"
      ]
     },
     "execution_count": 5,
     "metadata": {},
     "output_type": "execute_result"
    }
   ],
   "source": [
    "listings.isna().sum() / listings.count()"
   ]
  },
  {
   "cell_type": "markdown",
   "metadata": {},
   "source": [
    "We immediately notice that `neighbourhood_group` and `license` are missing all values. We will therefore drop these columns.\n",
    "\n",
    "We'll assume that `id`, `name`, `host_id`, `host_name` and `neighbourhood_group` are irrelevant to our analysis, and therefore drop these columns as well.\n",
    "\n",
    "We also notice that `last_review` and `reviews_per_month` have the same percentage of missing values. This is because listings with no reviews can't have a value for `last_review` or `reviews_per_month`. We will impute these values with -1."
   ]
  },
  {
   "cell_type": "code",
   "execution_count": 6,
   "metadata": {},
   "outputs": [],
   "source": [
    "listings = listings.drop([\"id\", \"name\", \"host_id\", \"host_name\", \"neighbourhood_group\", \"license\", \"last_review\"], axis=1)\n",
    "listings[[\"reviews_per_month\"]] = listings[[\"reviews_per_month\"]].fillna(-1)"
   ]
  },
  {
   "cell_type": "markdown",
   "metadata": {},
   "source": [
    "To deal with categorical features such as `neighbourhood` and `room_type` we will use one-hot encoding."
   ]
  },
  {
   "cell_type": "code",
   "execution_count": 7,
   "metadata": {},
   "outputs": [],
   "source": [
    "listings = pd.get_dummies(listings, columns=[\"neighbourhood\", \"room_type\"])"
   ]
  },
  {
   "cell_type": "markdown",
   "metadata": {},
   "source": [
    "We will now split the data into a training and test set. The target will be created from the splits such as to avoid data leakage. The targets are created as being higher or lower than the median price. Median price is chosen as the target because it is less sensitive to outliers than the mean price, meaning that the mean price will not necessarily be a good measure of central tendency in \"high\" and \"low\" prices."
   ]
  },
  {
   "cell_type": "code",
   "execution_count": 8,
   "metadata": {},
   "outputs": [],
   "source": [
    "# split data into train and test\n",
    "from sklearn.model_selection import train_test_split\n",
    "train, test = train_test_split(listings)\n",
    "X_train, y_train = train.drop(\"price\", axis=1), (train[\"price\"] > train[\"price\"].median()).astype(int)\n",
    "X_test, y_test = test.drop(\"price\", axis=1), (test[\"price\"] > test[\"price\"].median()).astype(int)"
   ]
  },
  {
   "cell_type": "markdown",
   "metadata": {},
   "source": [
    "#### Predictions, error analysis and interpretation"
   ]
  },
  {
   "cell_type": "code",
   "execution_count": 9,
   "metadata": {},
   "outputs": [
    {
     "name": "stdout",
     "output_type": "stream",
     "text": [
      "Accuracy score: 0.6615518239722061\n",
      "F1-Score: 0.6612576064908722\n"
     ]
    },
    {
     "data": {
      "image/png": "[encoded data removed]",
      "text/plain": [
       "<Figure size 640x480 with 2 Axes>"
      ]
     },
     "metadata": {},
     "output_type": "display_data"
    }
   ],
   "source": [
    "# train logistic regression model\n",
    "from sklearn.linear_model import LogisticRegression\n",
    "model = LogisticRegression()\n",
    "model.fit(X_train, y_train)\n",
    "\n",
    "# evaluate model\n",
    "from sklearn.metrics import plot_confusion_matrix\n",
    "from sklearn.metrics import accuracy_score, f1_score\n",
    "y_pred = model.predict(X_test)\n",
    "plot_confusion_matrix(model, X_test, y_test)\n",
    "print(f\"Accuracy score: {accuracy_score(y_test, y_pred)}\")\n",
    "print(f\"F1-Score: {f1_score(y_test, y_pred)}\")"
   ]
  },
  {
   "cell_type": "markdown",
   "metadata": {},
   "source": [
    "We obtain both an accuracy and F1-Score **above 0.6** with a default logistic regression classifier. From the confusion matrix we see that the classifier is slightly more prone to false positives than it is false negatives. "
   ]
  },
  {
   "cell_type": "code",
   "execution_count": 10,
   "metadata": {},
   "outputs": [
    {
     "name": "stdout",
     "output_type": "stream",
     "text": [
      "Accuracy score: 0.668950873467812\n",
      "F1-Score: 0.6734577303884234\n"
     ]
    }
   ],
   "source": [
    "y_pred = model.predict(X_train)\n",
    "print(f\"Accuracy score: {accuracy_score(y_train, y_pred)}\")\n",
    "print(f\"F1-Score: {f1_score(y_train, y_pred)}\")"
   ]
  },
  {
   "cell_type": "markdown",
   "metadata": {},
   "source": [
    "To assess overfitting we see that the predicting on the training set performs approximately equally well, indicating that it hasn't overfitted to the training set."
   ]
  },
  {
   "cell_type": "markdown",
   "metadata": {},
   "source": [
    "One of the strengths of the logistic regression method is the interpretability that the coefficients provide. Let's have a look at those."
   ]
  },
  {
   "cell_type": "code",
   "execution_count": 11,
   "metadata": {},
   "outputs": [
    {
     "data": {
      "text/html": [
       "<div>\n",
       "<style scoped>\n",
       "    .dataframe tbody tr th:only-of-type {\n",
       "        vertical-align: middle;\n",
       "    }\n",
       "\n",
       "    .dataframe tbody tr th {\n",
       "        vertical-align: top;\n",
       "    }\n",
       "\n",
       "    .dataframe thead th {\n",
       "        text-align: right;\n",
       "    }\n",
       "</style>\n",
       "<table border=\"1\" class=\"dataframe\">\n",
       "  <thead>\n",
       "    <tr style=\"text-align: right;\">\n",
       "      <th></th>\n",
       "      <th>feature</th>\n",
       "      <th>coefficient</th>\n",
       "    </tr>\n",
       "  </thead>\n",
       "  <tbody>\n",
       "    <tr>\n",
       "      <th>13</th>\n",
       "      <td>neighbourhood_Indre By</td>\n",
       "      <td>1.419735</td>\n",
       "    </tr>\n",
       "    <tr>\n",
       "      <th>19</th>\n",
       "      <td>room_type_Entire home/apt</td>\n",
       "      <td>1.361366</td>\n",
       "    </tr>\n",
       "    <tr>\n",
       "      <th>12</th>\n",
       "      <td>neighbourhood_Frederiksberg</td>\n",
       "      <td>0.364541</td>\n",
       "    </tr>\n",
       "    <tr>\n",
       "      <th>17</th>\n",
       "      <td>neighbourhood_Vesterbro-Kongens Enghave</td>\n",
       "      <td>0.285294</td>\n",
       "    </tr>\n",
       "    <tr>\n",
       "      <th>8</th>\n",
       "      <td>neighbourhood_Amager Vest</td>\n",
       "      <td>0.271291</td>\n",
       "    </tr>\n",
       "    <tr>\n",
       "      <th>1</th>\n",
       "      <td>longitude</td>\n",
       "      <td>0.152047</td>\n",
       "    </tr>\n",
       "    <tr>\n",
       "      <th>18</th>\n",
       "      <td>neighbourhood_sterbro</td>\n",
       "      <td>0.051617</td>\n",
       "    </tr>\n",
       "    <tr>\n",
       "      <th>5</th>\n",
       "      <td>calculated_host_listings_count</td>\n",
       "      <td>0.008095</td>\n",
       "    </tr>\n",
       "    <tr>\n",
       "      <th>7</th>\n",
       "      <td>number_of_reviews_ltm</td>\n",
       "      <td>0.003998</td>\n",
       "    </tr>\n",
       "    <tr>\n",
       "      <th>6</th>\n",
       "      <td>availability_365</td>\n",
       "      <td>0.003668</td>\n",
       "    </tr>\n",
       "    <tr>\n",
       "      <th>20</th>\n",
       "      <td>room_type_Hotel room</td>\n",
       "      <td>0.002671</td>\n",
       "    </tr>\n",
       "    <tr>\n",
       "      <th>3</th>\n",
       "      <td>number_of_reviews</td>\n",
       "      <td>-0.004546</td>\n",
       "    </tr>\n",
       "    <tr>\n",
       "      <th>2</th>\n",
       "      <td>minimum_nights</td>\n",
       "      <td>-0.011421</td>\n",
       "    </tr>\n",
       "    <tr>\n",
       "      <th>22</th>\n",
       "      <td>room_type_Shared room</td>\n",
       "      <td>-0.048097</td>\n",
       "    </tr>\n",
       "    <tr>\n",
       "      <th>0</th>\n",
       "      <td>latitude</td>\n",
       "      <td>-0.061312</td>\n",
       "    </tr>\n",
       "    <tr>\n",
       "      <th>4</th>\n",
       "      <td>reviews_per_month</td>\n",
       "      <td>-0.109104</td>\n",
       "    </tr>\n",
       "    <tr>\n",
       "      <th>9</th>\n",
       "      <td>neighbourhood_Amager st</td>\n",
       "      <td>-0.179894</td>\n",
       "    </tr>\n",
       "    <tr>\n",
       "      <th>14</th>\n",
       "      <td>neighbourhood_Nrrebro</td>\n",
       "      <td>-0.208680</td>\n",
       "    </tr>\n",
       "    <tr>\n",
       "      <th>15</th>\n",
       "      <td>neighbourhood_Valby</td>\n",
       "      <td>-0.295336</td>\n",
       "    </tr>\n",
       "    <tr>\n",
       "      <th>11</th>\n",
       "      <td>neighbourhood_Brnshj-Husum</td>\n",
       "      <td>-0.295366</td>\n",
       "    </tr>\n",
       "    <tr>\n",
       "      <th>16</th>\n",
       "      <td>neighbourhood_Vanlse</td>\n",
       "      <td>-0.382348</td>\n",
       "    </tr>\n",
       "    <tr>\n",
       "      <th>10</th>\n",
       "      <td>neighbourhood_Bispebjerg</td>\n",
       "      <td>-1.030979</td>\n",
       "    </tr>\n",
       "    <tr>\n",
       "      <th>21</th>\n",
       "      <td>room_type_Private room</td>\n",
       "      <td>-1.316063</td>\n",
       "    </tr>\n",
       "  </tbody>\n",
       "</table>\n",
       "</div>"
      ],
      "text/plain": [
       "                                    feature  coefficient\n",
       "13                   neighbourhood_Indre By     1.419735\n",
       "19                room_type_Entire home/apt     1.361366\n",
       "12              neighbourhood_Frederiksberg     0.364541\n",
       "17  neighbourhood_Vesterbro-Kongens Enghave     0.285294\n",
       "8                 neighbourhood_Amager Vest     0.271291\n",
       "1                                 longitude     0.152047\n",
       "18                    neighbourhood_sterbro     0.051617\n",
       "5            calculated_host_listings_count     0.008095\n",
       "7                     number_of_reviews_ltm     0.003998\n",
       "6                          availability_365     0.003668\n",
       "20                     room_type_Hotel room     0.002671\n",
       "3                         number_of_reviews    -0.004546\n",
       "2                            minimum_nights    -0.011421\n",
       "22                    room_type_Shared room    -0.048097\n",
       "0                                  latitude    -0.061312\n",
       "4                         reviews_per_month    -0.109104\n",
       "9                   neighbourhood_Amager st    -0.179894\n",
       "14                    neighbourhood_Nrrebro    -0.208680\n",
       "15                      neighbourhood_Valby    -0.295336\n",
       "11               neighbourhood_Brnshj-Husum    -0.295366\n",
       "16                     neighbourhood_Vanlse    -0.382348\n",
       "10                 neighbourhood_Bispebjerg    -1.030979\n",
       "21                   room_type_Private room    -1.316063"
      ]
     },
     "execution_count": 11,
     "metadata": {},
     "output_type": "execute_result"
    }
   ],
   "source": [
    "coefficients = pd.DataFrame({\"feature\": X_train.columns, \"coefficient\": model.coef_[0]})\n",
    "coefficients.sort_values(\"coefficient\", ascending=False)"
   ]
  },
  {
   "cell_type": "markdown",
   "metadata": {},
   "source": [
    "This would indicate that a listing's price is heavily influenced by its type as well as location which is to be expected. The feature `calculated_host_listings_count` also indicates an influence towards higher prices. This is likely due to the fact that hosts with more listings are more likely to be professional hosts, and therefore have higher prices."
   ]
  },
  {
   "cell_type": "markdown",
   "metadata": {},
   "source": [
    "### Multiclass Classification"
   ]
  },
  {
   "cell_type": "markdown",
   "metadata": {},
   "source": [
    "We create the labels such that the price is divided into 3 categories: \"Low\" (which is to be less than the .33th quantile), \"Medium\" (which is to be inbetween the 0.33th and 0.66th quantile) and \"High\" (which is to be larger than the 0.66th quantile). \n",
    "\n",
    "As with the binary classification, we split the data first and create labels from the splits' quantiles in order to avoid leakage."
   ]
  },
  {
   "cell_type": "code",
   "execution_count": 12,
   "metadata": {},
   "outputs": [],
   "source": [
    "train, test = train_test_split(listings)\n",
    "\n",
    "def create_targets(prices):\n",
    "    labels = []\n",
    "    for price in prices:\n",
    "        if price < prices.quantile(0.33):\n",
    "            labels.append(\"Low\")\n",
    "        if prices.quantile(0.33) <= price <= prices.quantile(0.66):\n",
    "            labels.append(\"Medium\")\n",
    "        if price > prices.quantile(0.66):\n",
    "            labels.append(\"High\")\n",
    "    return labels\n",
    "\n",
    "y_train, y_test = create_targets(train[\"price\"]), create_targets(test[\"price\"])\n",
    "X_train, X_test = train.drop(\"price\", axis=1), test.drop(\"price\", axis=1)"
   ]
  },
  {
   "cell_type": "code",
   "execution_count": 13,
   "metadata": {},
   "outputs": [],
   "source": [
    "def create_target(prices):\n",
    "    labels = []\n",
    "    for price in prices:\n",
    "        if price < prices.quantile(0.33):\n",
    "            labels.append(\"Low\")\n",
    "        if prices.quantile(0.33) <= price <= prices.quantile(0.66):\n",
    "            labels.append(\"Medium\")\n",
    "        elif price > prices.quantile(0.66):\n",
    "            labels.append(\"High\")\n",
    "    return labels"
   ]
  },
  {
   "cell_type": "markdown",
   "metadata": {},
   "source": [
    "#### Predictions, error analysis and interpretation"
   ]
  },
  {
   "cell_type": "code",
   "execution_count": 14,
   "metadata": {},
   "outputs": [
    {
     "name": "stdout",
     "output_type": "stream",
     "text": [
      "Accuracy score: 0.5173711638679791\n",
      "F1-Score: 0.5062418928793542\n"
     ]
    },
    {
     "data": {
      "image/png": "[encoded data removed]",
      "text/plain": [
       "<Figure size 640x480 with 2 Axes>"
      ]
     },
     "metadata": {},
     "output_type": "display_data"
    }
   ],
   "source": [
    "model = LogisticRegression()\n",
    "model.fit(X_train, y_train)\n",
    "\n",
    "y_pred = model.predict(X_test)\n",
    "plot_confusion_matrix(model, X_test, y_test)\n",
    "print(f\"Accuracy score: {accuracy_score(y_test, y_pred)}\")\n",
    "print(f\"F1-Score: {f1_score(y_test, y_pred, average='macro')}\")"
   ]
  },
  {
   "cell_type": "markdown",
   "metadata": {},
   "source": [
    "For the multiclass classification we also use a default logistic regression. We obtain an accuracy and F1-Score of about **0.5**. This is an improvement over random guessing, which would be 1/3. From the confusion matrix we see that the classifier is very prone to predicting things as being medium priced.\n",
    "\n",
    "We again compare to the accuracy and F1-Score on the predictions on the training set and see that it performs approximately equally well, indicating that it hasn't overfitted to the training set."
   ]
  },
  {
   "cell_type": "code",
   "execution_count": 15,
   "metadata": {},
   "outputs": [
    {
     "name": "stdout",
     "output_type": "stream",
     "text": [
      "Accuracy score: 0.5185792877135411\n",
      "F1-Score: 0.5059974251445393\n"
     ]
    }
   ],
   "source": [
    "y_pred = model.predict(X_train)\n",
    "print(f\"Accuracy score: {accuracy_score(y_train, y_pred)}\")\n",
    "print(f\"F1-Score: {f1_score(y_train, y_pred, average='macro')}\")"
   ]
  },
  {
   "cell_type": "code",
   "execution_count": 16,
   "metadata": {},
   "outputs": [
    {
     "data": {
      "text/plain": [
       "<AxesSubplot:ylabel='feature'>"
      ]
     },
     "execution_count": 16,
     "metadata": {},
     "output_type": "execute_result"
    },
    {
     "data": {
      "image/png": "[encoded data removed]",
      "text/plain": [
       "<Figure size 500x1000 with 1 Axes>"
      ]
     },
     "metadata": {},
     "output_type": "display_data"
    }
   ],
   "source": [
    "# interpret coefficients\n",
    "coefficients = pd.DataFrame({\"feature\": X_train.columns, \n",
    "                             \"coefficient_high\": model.coef_[0],\n",
    "                             \"coefficient_low\": model.coef_[1], \n",
    "                             \"coefficient_medium\": model.coef_[2]})\n",
    "coefficients.sort_values(\"coefficient_high\", ascending=False).set_index(\"feature\").plot(kind=\"barh\", figsize=(5, 10))"
   ]
  },
  {
   "cell_type": "markdown",
   "metadata": {},
   "source": [
    "From these coefficients we get a clear overview of how the price is influenced by different features. Things such as Home/Apt room type is strongly disassociated with a lower price while a neighbourhood such as Indre By is strongly associated with a higher price.\n",
    "\n",
    "We also see that the Medium labeled listings share a lot of feature weights with both High and Low, explaining why the classifier has a hard time and predicts Medium falsely a lot."
   ]
  }
 ],
 "metadata": {
  "kernelspec": {
   "display_name": "Python 3.9.13 ('base')",
   "language": "python",
   "name": "python3"
  },
  "language_info": {
   "codemirror_mode": {
    "name": "ipython",
    "version": 3
   },
   "file_extension": ".py",
   "mimetype": "text/x-python",
   "name": "python",
   "nbconvert_exporter": "python",
   "pygments_lexer": "ipython3",
   "version": "3.9.13"
  },
  "orig_nbformat": 4,
  "vscode": {
   "interpreter": {
    "hash": "e7cb1b9ae4d417fedf7f40a8eec98f7cfbd359e096bd857395a915f4609834ce"
   }
  }
 },
 "nbformat": 4,
 "nbformat_minor": 2
}
