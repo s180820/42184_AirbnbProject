{
 "cells": [
  {
   "cell_type": "markdown",
   "metadata": {},
   "source": [
    "# Conclusion\n",
    "\n",
    "We can conclude that we have successfully applied a vide variety of methods and techniques to analyze and gather insights from Airbnb data for listings in Copenhagen. \n",
    "\n",
    "The introductory part of the project was focused on gaining an overview from analysis and data visualizations. The second part focuses on a prediction challenge, in which we attempt to predict the price of the listings where we used logistic regression classifier for both binary and multiclass classification. For the binary classification we got an F1-score of 0.68 which is above the required 0.60. The multiclass case resulted in an F1-score of 0.50. The coefficients were also analyzed to see which features had the most impact on the price predictions.\n",
    "\n",
    "An exploratory component had us looking at three different questions:\n",
    "\n",
    "    1) Which amenities affect the price of a listings?\n",
    "        Here we see that the addition of a dishwasher can help a host justify the largest price increase.\n",
    "        \n",
    "    2) Which words are mostly associated with listings? \n",
    "        From the wordclouds we first noticed that some of the most expensive listings were all owned by a company which resulted in a very homogenous wordcloud. We then looked at the wordclouds for the words which were exclusive to the upper and lower quantiles of the price distribution.\n",
    "\n",
    "    3) Can the data be projected onto a lower dimensional space and provide meaningful insights?\n",
    "        Turns out that the `room_type` feature is highly seperable in the 2D space.\n",
    "\n"
   ]
  },
  {
   "cell_type": "markdown",
   "metadata": {},
   "source": [
    "# Contribution table\n",
    "\n",
    "|Part|Main contributor|Co-contributors|\n",
    "|:-|:-|:-|\n",
    "|Introduction, DataViz| Katrine| Gustav |\n",
    "|Prediction challenge| Rasmus|Mathilde |\n",
    "|Exploratory component, Amenities|Rasmus | Gustav, Katrine \n",
    "|Exploratory component, Wordclouds|Mathilde | Rasmus\n",
    "|Exploratory component, PCA| Gustav| Katrine\n",
    "|Conclusion| All|All|"
   ]
  },
  {
   "cell_type": "markdown",
   "metadata": {},
   "source": []
  }
 ],
 "metadata": {
  "kernelspec": {
   "display_name": "Python 3.9.13 ('base')",
   "language": "python",
   "name": "python3"
  },
  "language_info": {
   "name": "python",
   "version": "3.9.13"
  },
  "orig_nbformat": 4,
  "vscode": {
   "interpreter": {
    "hash": "e7cb1b9ae4d417fedf7f40a8eec98f7cfbd359e096bd857395a915f4609834ce"
   }
  }
 },
 "nbformat": 4,
 "nbformat_minor": 2
}
