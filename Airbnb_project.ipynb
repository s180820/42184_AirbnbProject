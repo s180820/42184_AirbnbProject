{
 "cells": [
  {
   "cell_type": "markdown",
   "metadata": {},
   "source": [
    "# Airbnb project \n",
    "\n",
    "- Katrine Bay s183910, Gustav Larsen s18xxxx, Rasmus Aagaard sxxxxxx and Mathilde XXX sxxxxxx."
   ]
  },
  {
   "cell_type": "markdown",
   "metadata": {},
   "source": [
    "- Section 1:Introduction + Data analysis and visualization\n",
    "\n",
    "- Section 2:Prediction Challenge\n",
    "- Section 3:Exploratory Component\n",
    "- Section 4:Conclusions"
   ]
  },
  {
   "cell_type": "markdown",
   "metadata": {},
   "source": [
    "## Introduction\n",
    "\n",
    "In this project we will be working with data from Airbnb. The data is from the city of Copenhagen, Denmark, and contains information about the listings, the hosts and the reviews. The data is from xxx and can be found on the website [InsideAirbnb](http://insideairbnb.com/get-the-data/)."
   ]
  },
  {
   "cell_type": "markdown",
   "metadata": {},
   "source": [
    "## Data analysis and visualization"
   ]
  },
  {
   "cell_type": "code",
   "execution_count": 9,
   "metadata": {},
   "outputs": [],
   "source": [
    "# loading packages etc\n",
    "import pandas as pd\n",
    "import numpy as np\n",
    "import matplotlib.pyplot as plt\n",
    "import seaborn as sns\n",
    "import datetime\n",
    "import warnings\n",
    "warnings.filterwarnings('ignore')\n",
    "%matplotlib inline\n"
   ]
  },
  {
   "cell_type": "code",
   "execution_count": 11,
   "metadata": {},
   "outputs": [],
   "source": [
    "# read in data\n",
    "listings = pd.read_csv('data/listings.csv')\n",
    "reviews = pd.read_csv('data/reviews.csv')\n",
    "neighbourhoods = pd.read_csv('data/neighbourhoods.csv')\n",
    "\n",
    "# gz zipped files\n",
    "calendar_gz = pd.read_csv('data/calendar.csv.gz', compression='gzip',\n",
    "                   error_bad_lines=False)\n",
    "listings_gz = pd.read_csv('data/listings.csv.gz.',compression='gzip',\n",
    "                   error_bad_lines=False)                   \n",
    "reviews_gz = pd.read_csv('data/reviews.csv.gz',compression='gzip',\n",
    "                   error_bad_lines=False)  \n",
    "\n",
    "# convert to pandas dataframe\n",
    "listings = pd.DataFrame(listings)\n",
    "reviews = pd.DataFrame(reviews)\n",
    "neighbourhoods = pd.DataFrame(neighbourhoods)\n",
    "\n",
    "calendar_gz = pd.DataFrame(calendar_gz)\n",
    "listings_gz = pd.DataFrame(listings_gz)\n",
    "reviews_gz = pd.DataFrame(reviews_gz)\n",
    "\n"
   ]
  },
  {
   "cell_type": "code",
   "execution_count": 31,
   "metadata": {},
   "outputs": [],
   "source": [
    "# joining dataframes \n",
    "df_reviews = pd.merge(reviews, reviews_gz, on = ['listing_id','date'])\n",
    "df_listings = pd.merge(listings, listings_gz, on = ['host_id','id'])\n"
   ]
  },
  {
   "cell_type": "code",
   "execution_count": null,
   "metadata": {},
   "outputs": [],
   "source": [
    "# Data preprocessing\n",
    "\n",
    "# Notice that the variables require some treatment in order to be usable \n",
    "# (e.g. Categorical, strings, different scales, etc)."
   ]
  },
  {
   "cell_type": "markdown",
   "metadata": {},
   "source": [
    "## Prediction Challenge\n",
    "\n",
    "- Binary Classification:\n",
    "\n",
    "- Multiclass Classification:"
   ]
  },
  {
   "cell_type": "markdown",
   "metadata": {},
   "source": [
    "## Exploratory Component\n",
    "\n",
    "Figure out something ourselves"
   ]
  },
  {
   "cell_type": "markdown",
   "metadata": {},
   "source": []
  },
  {
   "cell_type": "markdown",
   "metadata": {},
   "source": [
    "## Conclusions\n"
   ]
  },
  {
   "cell_type": "markdown",
   "metadata": {},
   "source": []
  }
 ],
 "metadata": {
  "kernelspec": {
   "display_name": "Python 3.9.4 64-bit",
   "language": "python",
   "name": "python3"
  },
  "language_info": {
   "codemirror_mode": {
    "name": "ipython",
    "version": 3
   },
   "file_extension": ".py",
   "mimetype": "text/x-python",
   "name": "python",
   "nbconvert_exporter": "python",
   "pygments_lexer": "ipython3",
   "version": "3.9.4"
  },
  "orig_nbformat": 4,
  "vscode": {
   "interpreter": {
    "hash": "a84faab740edc2ffcdbf4168f32bd03a4e5724d7f9fad76844773b2af875e96a"
   }
  }
 },
 "nbformat": 4,
 "nbformat_minor": 2
}
